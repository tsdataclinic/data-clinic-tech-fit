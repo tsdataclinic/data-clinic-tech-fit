{
 "cells": [
  {
   "cell_type": "code",
   "execution_count": 1,
   "id": "d934b740",
   "metadata": {},
   "outputs": [
    {
     "name": "stderr",
     "output_type": "stream",
     "text": [
      "/miniconda/envs/myenv/lib/python3.8/site-packages/fuzzywuzzy/fuzz.py:11: UserWarning: Using slow pure-python SequenceMatcher. Install python-Levenshtein to remove this warning\n",
      "  warnings.warn('Using slow pure-python SequenceMatcher. Install python-Levenshtein to remove this warning')\n"
     ]
    }
   ],
   "source": [
    "import plotly as plt\n",
    "import plotly.express as px\n",
    "import pandas as pd\n",
    "import geopandas as gpd\n",
    "import cenpy\n",
    "import os\n",
    "import json"
   ]
  },
  {
   "cell_type": "code",
   "execution_count": 2,
   "id": "515b7cc5",
   "metadata": {},
   "outputs": [
    {
     "name": "stderr",
     "output_type": "stream",
     "text": [
      "/miniconda/envs/myenv/lib/python3.8/site-packages/cenpy/products.py:791: UserWarning: Uncertain place identifier \"Cambridge City\". The place identifier should look something like \"placename, state\" or, for larger areas, like Combined Statistical Areas or Metropolitan Statistical Areas,\"placename1-placename2, state1-state2-state3\"\n",
      "  geoms, variables, *rest = super(ACS, self).from_place(\n",
      "/miniconda/envs/myenv/lib/python3.8/site-packages/cenpy/products.py:993: UserWarning: Cannot disambiguate placename Cambridge City. Picking the shortest, best matched placename, Cambridge city, from Cambridge city, Cambridge city, Cambridge city, Cambridge city, Cambridge city, Cambridge city, Cambridge city, Cambridge city, Cambridge city, Cambridge city, Cambridge city\n",
      "  warn(\n"
     ]
    },
    {
     "name": "stdout",
     "output_type": "stream",
     "text": [
      "Matched: Cambridge City to Cambridge city within layer Incorporated Places\n"
     ]
    },
    {
     "name": "stderr",
     "output_type": "stream",
     "text": [
      "/tmp/ipykernel_324/4157045602.py:12: FutureWarning: The `op` parameter is deprecated and will be removed in a future release. Please use the `predicate` parameter instead.\n",
      "  acs_2019_variables = acs.from_place(\n"
     ]
    }
   ],
   "source": [
    "acs = cenpy.products.ACS(2019)\n",
    "#acs_vars = acs.variables.reset_index()\n",
    "#acs_vars[acs_vars[\"group\"] == \"B22001\"]\n",
    "\n",
    "variables_dict = {\n",
    "    \"B18140_001E\":\"total_pop\",\n",
    "    \"B18140_002E\":\"total_pop_disability\",\n",
    "    \"B25119_003E\":\"median_household_income_past_12_months_renters\",\n",
    "    \"B22001_002E\":\"household_received_foodstamps_in_the_past_12_months\",  \n",
    "}\n",
    "\n",
    "acs_2019_variables = acs.from_place(\n",
    "    place = \"Cambridge City, MA\",\n",
    "    variables = list(variables_dict.keys()),\n",
    "    strict_within=True\n",
    ")"
   ]
  },
  {
   "cell_type": "code",
   "execution_count": 5,
   "id": "71d30b17-8184-4e16-bc51-42b180941d3d",
   "metadata": {},
   "outputs": [
    {
     "name": "stderr",
     "output_type": "stream",
     "text": [
      "/miniconda/envs/myenv/lib/python3.8/site-packages/cenpy/products.py:791: UserWarning: Uncertain place identifier \"Cambridge City\". The place identifier should look something like \"placename, state\" or, for larger areas, like Combined Statistical Areas or Metropolitan Statistical Areas,\"placename1-placename2, state1-state2-state3\"\n",
      "  geoms, variables, *rest = super(ACS, self).from_place(\n",
      "/miniconda/envs/myenv/lib/python3.8/site-packages/cenpy/products.py:993: UserWarning: Cannot disambiguate placename Cambridge City. Picking the shortest, best matched placename, Cambridge city, from Cambridge city, Cambridge city, Cambridge city, Cambridge city, Cambridge city, Cambridge city, Cambridge city, Cambridge city, Cambridge city, Cambridge city, Cambridge city\n",
      "  warn(\n"
     ]
    },
    {
     "name": "stdout",
     "output_type": "stream",
     "text": [
      "Matched: Cambridge City to Cambridge city within layer Incorporated Places\n"
     ]
    }
   ],
   "source": [
    "acs_2019_variables = acs.from_place(\n",
    "    place = \"Cambridge City\",\n",
    "    variables = list(variables_dict.keys()),\n",
    "    strict_within=False\n",
    ")"
   ]
  },
  {
   "cell_type": "code",
   "execution_count": 6,
   "id": "557aacb7-b7a4-4075-8c4d-5fb096aded68",
   "metadata": {},
   "outputs": [
    {
     "data": {
      "text/html": [
       "<div>\n",
       "<style scoped>\n",
       "    .dataframe tbody tr th:only-of-type {\n",
       "        vertical-align: middle;\n",
       "    }\n",
       "\n",
       "    .dataframe tbody tr th {\n",
       "        vertical-align: top;\n",
       "    }\n",
       "\n",
       "    .dataframe thead th {\n",
       "        text-align: right;\n",
       "    }\n",
       "</style>\n",
       "<table border=\"1\" class=\"dataframe\">\n",
       "  <thead>\n",
       "    <tr style=\"text-align: right;\">\n",
       "      <th></th>\n",
       "      <th>GEOID</th>\n",
       "      <th>geometry</th>\n",
       "      <th>B18140_001E</th>\n",
       "      <th>B18140_002E</th>\n",
       "      <th>B22001_002E</th>\n",
       "      <th>B25119_003E</th>\n",
       "      <th>state</th>\n",
       "      <th>county</th>\n",
       "      <th>tract</th>\n",
       "    </tr>\n",
       "  </thead>\n",
       "  <tbody>\n",
       "    <tr>\n",
       "      <th>0</th>\n",
       "      <td>16087970100</td>\n",
       "      <td>POLYGON ((-13033371.920 5571935.390, -13033348...</td>\n",
       "      <td>21354.0</td>\n",
       "      <td>NaN</td>\n",
       "      <td>56.0</td>\n",
       "      <td>30000.0</td>\n",
       "      <td>16</td>\n",
       "      <td>087</td>\n",
       "      <td>970100</td>\n",
       "    </tr>\n",
       "  </tbody>\n",
       "</table>\n",
       "</div>"
      ],
      "text/plain": [
       "         GEOID                                           geometry  \\\n",
       "0  16087970100  POLYGON ((-13033371.920 5571935.390, -13033348...   \n",
       "\n",
       "   B18140_001E  B18140_002E  B22001_002E  B25119_003E state county   tract  \n",
       "0      21354.0          NaN         56.0      30000.0    16    087  970100  "
      ]
     },
     "execution_count": 6,
     "metadata": {},
     "output_type": "execute_result"
    }
   ],
   "source": [
    "acs_2019_variables.head()"
   ]
  },
  {
   "cell_type": "code",
   "execution_count": null,
   "id": "7927262c-ba36-4e76-b186-522f7e356cdc",
   "metadata": {},
   "outputs": [],
   "source": [
    "merged_geojson =  json.loads(tract_gpdf.to_json())\n",
    "fig = px.choropleth_mapbox(tract_gpdf, \n",
    "                    geojson = merged_geojson,\n",
    "                    locations=\"GEOID\", \n",
    "                    featureidkey = \"properties.GEOID\",\n",
    "                    color= \"ALAND\", # change this parameter to change the variable you'd like to visualize\n",
    "                    color_continuous_scale=\"Viridis\",\n",
    "                    zoom=9, \n",
    "                    center = {\"lat\": 40.7306, \"lon\": -73.9352},\n",
    "                    opacity = .7,\n",
    "                          )\n",
    "fig.update_layout(mapbox_style=\"open-street-map\")\n",
    "fig.show()"
   ]
  }
 ],
 "metadata": {
  "kernelspec": {
   "display_name": "Python 3 (ipykernel)",
   "language": "python",
   "name": "python3"
  },
  "language_info": {
   "codemirror_mode": {
    "name": "ipython",
    "version": 3
   },
   "file_extension": ".py",
   "mimetype": "text/x-python",
   "name": "python",
   "nbconvert_exporter": "python",
   "pygments_lexer": "ipython3",
   "version": "3.8.13"
  }
 },
 "nbformat": 4,
 "nbformat_minor": 5
}
